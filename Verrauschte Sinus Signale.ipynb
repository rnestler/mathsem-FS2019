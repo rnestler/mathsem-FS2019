{
 "cells": [
  {
   "cell_type": "code",
   "execution_count": null,
   "metadata": {},
   "outputs": [],
   "source": [
    "%matplotlib widget\n",
    "import math\n",
    "import pywt\n",
    "import pandas as pd\n",
    "import numpy as np\n",
    "from matplotlib import pyplot as plt\n",
    "from ipywidgets import HBox, VBox, FloatSlider, IntSlider\n",
    "from ipywidgets import interact, interactive, fixed, interact_manual\n",
    "from IPython.display import display\n",
    "import importlib\n",
    "import toolbox\n",
    "importlib.reload(toolbox)"
   ]
  },
  {
   "cell_type": "code",
   "execution_count": null,
   "metadata": {},
   "outputs": [],
   "source": [
    "from toolbox import *"
   ]
  },
  {
   "cell_type": "code",
   "execution_count": null,
   "metadata": {},
   "outputs": [],
   "source": [
    "plt.rcParams[\"figure.figsize\"] = [8,6]\n",
    "plt.rcParams.update({'font.size': 14})"
   ]
  },
  {
   "cell_type": "markdown",
   "metadata": {},
   "source": [
    "# Verrauschte Sinus Signale"
   ]
  },
  {
   "cell_type": "code",
   "execution_count": null,
   "metadata": {},
   "outputs": [],
   "source": [
    "plt.ioff()"
   ]
  },
  {
   "cell_type": "code",
   "execution_count": null,
   "metadata": {
    "scrolled": false
   },
   "outputs": [],
   "source": [
    "signal_fig = plt.figure(1)\n",
    "fft_fig = plt.figure(2)\n",
    "dwt_fig = plt.figure(3, [8,8])\n",
    "\n",
    "toolbox.MODE = 'zero'\n",
    "\n",
    "def refresh_plot(padding=0, noise=0.0, f=10.0):\n",
    "    h_p = padding//2\n",
    "    print(h_p)\n",
    "    x_padded = x[h_p:len(x)-h_p]\n",
    "    print(len(x), len(x_padded))\n",
    "    y = np.concatenate((np.zeros(h_p), np.sin(f * np.pi * x_padded), np.zeros(h_p)))+ (np.random.rand(len(x)) - 0.5) * noise\n",
    "    #y = np.sin(f * np.pi * x) + (np.random.rand(len(x)) - 0.5) * noise\n",
    "    signal_fig.clear()\n",
    "    fft_fig.clear()\n",
    "    dwt_fig.clear()\n",
    "    signal_axis = signal_fig.subplots(1)\n",
    "    signal_axis.plot(y)\n",
    "    \n",
    "    fft_axis = fft_fig.subplots(1)\n",
    "    plot_fft_result([y], ['$sin(x) + noise$'], fft_axis, remove_dc=False)\n",
    "    \n",
    "    plot_dwt_multi_level_single(x, y, 'db1', dwt_fig, level=4, padding=0)\n",
    "        \n",
    "    signal_fig.canvas.draw()\n",
    "    fft_fig.canvas.draw()\n",
    "    dwt_fig.canvas.draw()\n",
    "    \n",
    "interactive_w = interactive(refresh_plot, padding=(0, 100, 10), noise=(0.00, 2, 0.05), f=(1,25))\n",
    "\n",
    "VBox([VBox([interactive_w, signal_fig.canvas]),\n",
    "      VBox([interactive_w, fft_fig.canvas]),\n",
    "      VBox([interactive_w, dwt_fig.canvas])])"
   ]
  },
  {
   "cell_type": "markdown",
   "metadata": {},
   "source": [
    "# Phasen Sprünge"
   ]
  },
  {
   "cell_type": "code",
   "execution_count": null,
   "metadata": {
    "scrolled": false
   },
   "outputs": [],
   "source": [
    "signal_fig = plt.figure(4)\n",
    "fft_fig = plt.figure(5)\n",
    "dwt_fig = plt.figure(6, [8,8])\n",
    "\n",
    "toolbox.MODE = 'zero'\n",
    "\n",
    "x = np.linspace(0, 2, 100)\n",
    "l_2 = len(x)//2\n",
    "def refresh_plot(phase_shift=0, f=8.0):\n",
    "    y = np.concatenate((np.sin(f * np.pi * x[:l_2]), np.sin(phase_shift + f * np.pi * x[l_2:])))\n",
    "    signal_fig.clear()\n",
    "    fft_fig.clear()\n",
    "    dwt_fig.clear()\n",
    "    signal_axis = signal_fig.subplots(1)\n",
    "    signal_axis.plot(y)\n",
    "    \n",
    "    fft_axis = fft_fig.subplots(1)\n",
    "    plot_fft_result([y], ['$sin(x) + noise$'], fft_axis, remove_dc=False)\n",
    "    \n",
    "    plot_dwt_multi_level([y], ['$sin(x) + noise$'], 'db1', dwt_fig, level=4, padding=0)\n",
    "        \n",
    "    signal_fig.canvas.draw()\n",
    "    fft_fig.canvas.draw()\n",
    "    dwt_fig.canvas.draw()\n",
    "    \n",
    "interactive_w = interactive(refresh_plot, phase_shift=(0, 3.14, 0.1), noise=(0.00, 2, 0.05), f=(1,25))\n",
    "\n",
    "VBox([VBox([interactive_w, signal_fig.canvas]),\n",
    "      VBox([interactive_w, fft_fig.canvas]),\n",
    "      VBox([interactive_w, dwt_fig.canvas])])"
   ]
  },
  {
   "cell_type": "code",
   "execution_count": null,
   "metadata": {},
   "outputs": [],
   "source": []
  }
 ],
 "metadata": {
  "kernelspec": {
   "display_name": "Python 3",
   "language": "python",
   "name": "python3"
  },
  "language_info": {
   "codemirror_mode": {
    "name": "ipython",
    "version": 3
   },
   "file_extension": ".py",
   "mimetype": "text/x-python",
   "name": "python",
   "nbconvert_exporter": "python",
   "pygments_lexer": "ipython3",
   "version": "3.7.3"
  }
 },
 "nbformat": 4,
 "nbformat_minor": 2
}
