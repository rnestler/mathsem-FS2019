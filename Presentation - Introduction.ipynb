{
 "cells": [
  {
   "cell_type": "code",
   "execution_count": null,
   "metadata": {
    "slideshow": {
     "slide_type": "skip"
    }
   },
   "outputs": [],
   "source": [
    "%matplotlib inline\n",
    "import math\n",
    "import pywt\n",
    "import pandas as pd\n",
    "import numpy as np\n",
    "from matplotlib import pyplot as plt\n",
    "from ipywidgets import HBox, FloatSlider, IntSlider\n",
    "from ipywidgets import interact, interactive, fixed, interact_manual\n",
    "from IPython.display import display\n",
    "import importlib\n",
    "import toolbox\n",
    "importlib.reload(toolbox)"
   ]
  },
  {
   "cell_type": "code",
   "execution_count": null,
   "metadata": {
    "slideshow": {
     "slide_type": "skip"
    }
   },
   "outputs": [],
   "source": [
    "plt.rcParams[\"figure.figsize\"] = [16,9]\n",
    "plt.rcParams.update({'font.size': 20})"
   ]
  },
  {
   "cell_type": "code",
   "execution_count": null,
   "metadata": {
    "slideshow": {
     "slide_type": "skip"
    }
   },
   "outputs": [],
   "source": [
    "from toolbox import *"
   ]
  },
  {
   "cell_type": "code",
   "execution_count": null,
   "metadata": {
    "slideshow": {
     "slide_type": "skip"
    }
   },
   "outputs": [],
   "source": [
    "def plot_dwvlt(wavelets):\n",
    "    fig, ax=plt.subplots(1, 2, sharey=True)\n",
    "    for wavlet in wavelets:\n",
    "        w = pywt.Wavelet(wavlet)\n",
    "        (phi, psi, x) = w.wavefun(level=10)\n",
    "        line = ax[0].fill_between(x, 0, phi, color='C0', alpha=0.5)\n",
    "        line = ax[1].fill_between(x, 0, psi, color='C1', alpha=0.5)\n",
    "        line = ax[0].plot(x, phi, color='C0')\n",
    "        line = ax[1].plot(x, psi, color='C1')"
   ]
  },
  {
   "cell_type": "code",
   "execution_count": null,
   "metadata": {
    "slideshow": {
     "slide_type": "skip"
    }
   },
   "outputs": [],
   "source": [
    "def plot_cwvlt(wavelets):\n",
    "    fig=plt.figure()\n",
    "    ax = fig.add_axes([0,0,1,1])\n",
    "    for wavlet in wavelets:\n",
    "        w = pywt.ContinuousWavelet(wavlet)\n",
    "        (phi, x) = w.wavefun(level=10)\n",
    "        line = ax.plot(x, phi)"
   ]
  },
  {
   "cell_type": "markdown",
   "metadata": {
    "slideshow": {
     "slide_type": "slide"
    }
   },
   "source": [
    "# Introduction To Wavelets\n",
    "\n",
    "Raphael Nestler\n",
    "\n",
    "2019-06-19\n",
    "\n",
    "Sensirion"
   ]
  },
  {
   "cell_type": "markdown",
   "metadata": {
    "slideshow": {
     "slide_type": "slide"
    }
   },
   "source": [
    "## Vergleich FFT\n",
    " * FFT teilt Signal in $sin(\\omega t)$ und $cos(\\omega t)$\n",
    "   * Gut für periodische Signale\n",
    "   * Sagt nichts darüber aus *wo* $f$ interessant ist\n",
    "   * Kann erst bestimmt werden wenn das ganze Signal \"vorbei\" ist\n",
    " * Wavlet Analyse\n",
    "   * Setzte Signale aus kleinen Stücklein zusammen\n",
    "   * Zeigt wo das signal ist\n",
    "   * Kann kontinuierlich und schnell berechnet werden"
   ]
  },
  {
   "cell_type": "markdown",
   "metadata": {
    "slideshow": {
     "slide_type": "slide"
    }
   },
   "source": [
    "# Wie Funktioniert Es?\n",
    "\n",
    " * Zusammensetzen aus verschobenen und skalierten Basisfunktionen\n",
    " * Basisfunktionen je nach Anspruch\n",
    "   * Vergleichbar mit realistischen Signalen\n",
    "     → Gabor-Wavelet, Mexikanerhut, Meyer-Wavelet, Daubechies-Wavelets, Coifflet, Symlet, . . .\n",
    "   * Schneller Berechnungsalgorithmus\n",
    "     → Multiskalen-Analyse, Wavelets mit kompaktem Träger\n",
    "   * Schneller Synthesealgorithmus\n",
    "   * Orthonormierte Basis\n",
    "     → Frame, Multiskalen-Analyse"
   ]
  },
  {
   "cell_type": "markdown",
   "metadata": {
    "slideshow": {
     "slide_type": "slide"
    }
   },
   "source": [
    "# CWT Analyse mit Mexikanerhut Wavelet"
   ]
  },
  {
   "cell_type": "code",
   "execution_count": null,
   "metadata": {
    "slideshow": {
     "slide_type": "fragment"
    }
   },
   "outputs": [],
   "source": [
    "plot_cwvlt([\"mexh\"])"
   ]
  },
  {
   "cell_type": "markdown",
   "metadata": {
    "slideshow": {
     "slide_type": "subslide"
    }
   },
   "source": [
    "## Zu analysierendes Signal\n",
    "![./images/f.png](./images/f.png)"
   ]
  },
  {
   "cell_type": "markdown",
   "metadata": {
    "slideshow": {
     "slide_type": "subslide"
    }
   },
   "source": [
    "![Analyse](./images/mex-analyse.png)"
   ]
  },
  {
   "cell_type": "markdown",
   "metadata": {
    "slideshow": {
     "slide_type": "slide"
    }
   },
   "source": [
    "# CWT mit Morlet Wavelet\n",
    " * Wavelet: $\\psi(t) = e^{-t^2/2} \\cdot e^{5it}$\n",
    " * Signal: $f(t) = \\sin(t\\cdot(4+0.2t))$"
   ]
  },
  {
   "cell_type": "code",
   "execution_count": null,
   "metadata": {
    "slideshow": {
     "slide_type": "skip"
    }
   },
   "outputs": [],
   "source": [
    "t = np.linspace(0, 11 * np.pi, 1000)\n",
    "def plot_signal(signal):\n",
    "    fig=plt.figure(figsize=(16, 3.3))\n",
    "    ax = fig.add_axes([0,0,1,1])\n",
    "    ax.plot(t, signal)"
   ]
  },
  {
   "cell_type": "code",
   "execution_count": null,
   "metadata": {
    "slideshow": {
     "slide_type": "fragment"
    }
   },
   "outputs": [],
   "source": [
    "plot_signal(np.sin(t * (4 + 0.2 * t)))"
   ]
  },
  {
   "cell_type": "markdown",
   "metadata": {
    "slideshow": {
     "slide_type": "subslide"
    }
   },
   "source": [
    "![](./images/morlet-analyse.png)"
   ]
  },
  {
   "cell_type": "markdown",
   "metadata": {
    "slideshow": {
     "slide_type": "slide"
    }
   },
   "source": [
    "# Schnelle Wavelet Transformation\n",
    "\n",
    " * Die CWT ist sehr rechenaufwendig\n",
    " * Simplere Zeitbegrenzte Wavelets mit kompaktem Träger -> Multiskalen Analyse"
   ]
  },
  {
   "cell_type": "markdown",
   "metadata": {
    "slideshow": {
     "slide_type": "subslide"
    }
   },
   "source": [
    "## Das Haar Wavlet\n",
    "\n",
    " * Einfachstes und intuitiv verständliches Wavelet\n",
    " * Als erstes \"entdeckt\"\n",
    " * Es war nicht sicher ob es überhaupt noch andere gibt"
   ]
  },
  {
   "cell_type": "code",
   "execution_count": null,
   "metadata": {
    "slideshow": {
     "slide_type": "fragment"
    }
   },
   "outputs": [],
   "source": [
    "plot_dwvlt(['db1'])"
   ]
  },
  {
   "cell_type": "markdown",
   "metadata": {
    "slideshow": {
     "slide_type": "subslide"
    }
   },
   "source": [
    "## Merkmale\n",
    " * Integral gibt 0 (ausser Vater Wavlet)\n",
    " * Ganzahlige Verschiebungen und Streckungen sind orthogonal"
   ]
  },
  {
   "cell_type": "code",
   "execution_count": null,
   "metadata": {
    "slideshow": {
     "slide_type": "subslide"
    }
   },
   "outputs": [],
   "source": [
    "x = np.linspace(0, 2 * np.pi, 16)\n",
    "y = np.sin(x)\n",
    "plot_dwt_multi_level_single(x, y, 'db1',  plt.figure(), level=1, padding=0)"
   ]
  },
  {
   "cell_type": "markdown",
   "metadata": {
    "slideshow": {
     "slide_type": "slide"
    }
   },
   "source": [
    "## Analyse als Filter\n",
    "\n",
    " * Die Wavelet Transformation kann auch als Filter betrachtet werden\n",
    " * Vater-Wavelet -> Tiefpass\n",
    " * Mutter-Wavelet -> Hochpass"
   ]
  },
  {
   "cell_type": "code",
   "execution_count": null,
   "metadata": {},
   "outputs": [],
   "source": []
  }
 ],
 "metadata": {
  "celltoolbar": "Slideshow",
  "kernelspec": {
   "display_name": "Python 3",
   "language": "python",
   "name": "python3"
  },
  "language_info": {
   "codemirror_mode": {
    "name": "ipython",
    "version": 3
   },
   "file_extension": ".py",
   "mimetype": "text/x-python",
   "name": "python",
   "nbconvert_exporter": "python",
   "pygments_lexer": "ipython3",
   "version": "3.7.3"
  }
 },
 "nbformat": 4,
 "nbformat_minor": 2
}
