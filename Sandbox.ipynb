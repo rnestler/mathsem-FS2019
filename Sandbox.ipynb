{
 "cells": [
  {
   "cell_type": "code",
   "execution_count": null,
   "metadata": {},
   "outputs": [],
   "source": [
    "%matplotlib widget\n",
    "import math\n",
    "import pywt\n",
    "import pandas as pd\n",
    "import numpy as np\n",
    "from matplotlib import pyplot as plt\n",
    "from ipywidgets import HBox, FloatSlider, IntSlider\n",
    "from ipywidgets import interact, interactive, fixed, interact_manual\n",
    "from IPython.display import display"
   ]
  },
  {
   "cell_type": "code",
   "execution_count": null,
   "metadata": {},
   "outputs": [],
   "source": [
    "plt.rcParams[\"figure.figsize\"] "
   ]
  },
  {
   "cell_type": "code",
   "execution_count": null,
   "metadata": {},
   "outputs": [],
   "source": [
    "plt.rcParams[\"figure.figsize\"] = [8,4.5]"
   ]
  },
  {
   "cell_type": "code",
   "execution_count": null,
   "metadata": {},
   "outputs": [],
   "source": [
    "w = pywt.Wavelet('db2')"
   ]
  },
  {
   "cell_type": "code",
   "execution_count": null,
   "metadata": {},
   "outputs": [],
   "source": [
    "(phi, psi, x) = w.wavefun(level=5)"
   ]
  },
  {
   "cell_type": "code",
   "execution_count": null,
   "metadata": {},
   "outputs": [],
   "source": [
    "fig=plt.figure()\n",
    "ax = fig.add_axes([0,0,1,1])\n",
    "line = ax.plot(x, phi)"
   ]
  },
  {
   "cell_type": "code",
   "execution_count": null,
   "metadata": {},
   "outputs": [],
   "source": [
    "ax.plot(x, psi)"
   ]
  },
  {
   "cell_type": "code",
   "execution_count": null,
   "metadata": {},
   "outputs": [],
   "source": [
    "display(fig)"
   ]
  },
  {
   "cell_type": "code",
   "execution_count": null,
   "metadata": {},
   "outputs": [],
   "source": [
    "data = []\n",
    "data_pure = []\n",
    "data_with_noise = []\n",
    "data_shifted = []\n",
    "data_with_sin = []\n",
    "labels = ['$x^{-1}$', '$x^0$', '$x^1$', '$x^2$', '$x^3$']\n",
    "labels_shifted = ['$(x-t)^{-1}$', '$(x-t)^0$', '$(x-t)^1$', '$(x-t)^2$', '$(x-t)^3$']\n",
    "labels_sin = [x + ' + sin(f \\pi x) \\cdot a$' for x in ['$x^{-1}', '$x^0', '$x^1', '$x^2', '$x^3']]\n",
    "x = np.linspace(0, 2, 128)\n",
    "for p in [0.5, 0, 1, 2, 3]:\n",
    "    y = x**p\n",
    "    y_noise = x**p + np.random.rand(len(x))*0.1\n",
    "    y_shifted = (x + 0.5)**p\n",
    "    y_sin = x**p + np.sin(20 * np.pi * x) * 0.1\n",
    "    #y = np.concatenate((y, y[:-1][::-1]))\n",
    "    #y = np.concatenate((y, y[::-1]))\n",
    "    #y = np.tile(y[:-1],10)\n",
    "    data_pure.append(y)\n",
    "    data_with_noise.append(y_noise)\n",
    "    data_shifted.append(y_shifted)\n",
    "    data_with_sin.append(y_sin)\n",
    "\n",
    "data = data_pure\n",
    "#labels += ['$x + sin(20 \\pi x)$']\n",
    "#x = np.linspace(0, 2, 100)\n",
    "#y = x + np.sin(20 * np.pi * x) * 0.1\n",
    "#data.append(y)"
   ]
  },
  {
   "cell_type": "code",
   "execution_count": null,
   "metadata": {},
   "outputs": [],
   "source": []
  },
  {
   "cell_type": "code",
   "execution_count": null,
   "metadata": {},
   "outputs": [],
   "source": [
    "data = data_pure"
   ]
  },
  {
   "cell_type": "code",
   "execution_count": null,
   "metadata": {},
   "outputs": [],
   "source": [
    "def print_signals(data, labels):\n",
    "    lines = []\n",
    "    fig, ax = plt.subplots(1,1)\n",
    "    ax.set_title(\"Signals\")\n",
    "    for i in range(len(data)):\n",
    "        d = data[i]\n",
    "        l = labels[i]\n",
    "        line = plt.plot(x, d, label=l)\n",
    "        lines += line\n",
    "    plt.legend()\n",
    "    plt.grid()\n",
    "    return fig, lines\n",
    "fig, lines = print_signals(data_pure, labels)"
   ]
  },
  {
   "cell_type": "code",
   "execution_count": null,
   "metadata": {},
   "outputs": [],
   "source": [
    "#line = ax.plot(np.tile(y,10))"
   ]
  },
  {
   "cell_type": "code",
   "execution_count": null,
   "metadata": {},
   "outputs": [],
   "source": [
    "MODE='smooth'\n",
    "def plot_dwt_result(data, labels, wavelet, ca_axis, cd_axis):\n",
    "    for n in range(len(data)):\n",
    "        d = data[n]\n",
    "        l = labels[n]\n",
    "        ca, cd = pywt.dwt(d, wavelet, mode=MODE)\n",
    "        #print(len(d), len(ca), len(cd))\n",
    "        l_diff = len(ca) - len(d)//2\n",
    "        start = l_diff\n",
    "        end = len(ca) - l_diff\n",
    "        ca = ca[start:end]\n",
    "        cd = cd[start:end]\n",
    "        #ca = ca[0:len(d)//2]\n",
    "        #cd = cd[0:len(d)//2]\n",
    "        #print(len(d), len(ca), len(cd))\n",
    "        ca_axis.set_title(\"Approx. Coef\")\n",
    "        ca_axis.plot(ca, label=l)\n",
    "        cd_axis.set_title(\"Detail Coef\")\n",
    "        cd_axis.plot(cd, label=l)\n",
    "        ca_axis.legend()\n",
    "        cd_axis.legend()\n",
    "        \n",
    "        \n",
    "def plot_dwt_multi_level(data, labels, wavelet, fig, level=None):\n",
    "    plots = fig.subplots(level + 1, 1)\n",
    "    for n_d in range(len(data)):\n",
    "        d = data[n_d]\n",
    "        l = labels[n_d]\n",
    "        coeffs = pywt.wavedec(d, wavelet, mode=MODE, level=level)\n",
    "        for n in range(len(coeffs)):\n",
    "            plots[n].plot(coeffs[-(n+1)], label=l)\n",
    "            print(len(coeffs[-(n+1)]))\n",
    "    for p in plots:\n",
    "        p.legend()\n",
    "        \n",
    "def plot_dwt_approximation_reconstruction(data, labels, wavelet, ca_axis, cd_axis, reconstruct_axis, error_axis):\n",
    "    for n in range(len(data)):\n",
    "        d = data[n]\n",
    "        l = labels[n]\n",
    "        ca, cd = pywt.dwt(d, wavelet, mode=MODE)\n",
    "        print(len(d), len(ca), len(cd))\n",
    "        reconstruct = pywt.idwt(ca, np.zeros(len(cd)), wavelet, mode=MODE)\n",
    "        #error = reconstruct[:-1] - d\n",
    "        error = reconstruct - d\n",
    "        ca_axis.set_title(\"Approx. Coef\")\n",
    "        ca_axis.plot(ca, label=l)\n",
    "        cd_axis.set_title(\"Detail Coef\")\n",
    "        cd_axis.plot(cd, label=l)\n",
    "        reconstruct_axis.set_title(\"Reconstruct w/o Details\")\n",
    "        reconstruct_axis.plot(reconstruct, label=l)\n",
    "        error_axis.set_title(\"Reconstruct Error\")\n",
    "        error_axis.plot(error, label=l)"
   ]
  },
  {
   "cell_type": "code",
   "execution_count": null,
   "metadata": {},
   "outputs": [],
   "source": [
    "fig = plt.figure()"
   ]
  },
  {
   "cell_type": "code",
   "execution_count": null,
   "metadata": {},
   "outputs": [],
   "source": [
    "fig.clear()\n",
    "plot_dwt_multi_level(data_pure[2:5], labels[2:5], 'db2', fig, 3)\n",
    "fig.tight_layout()\n",
    "#fig.legend()\n",
    "#display(fig)"
   ]
  },
  {
   "cell_type": "code",
   "execution_count": null,
   "metadata": {},
   "outputs": [],
   "source": [
    "def plot_wavelet_analysis(data, labels, wavelet):\n",
    "    fig, ax_lst = plt.subplots(2, 1)\n",
    "    plot_dwt_result(data, labels, wavelet, ax_lst[0], ax_lst[1])\n",
    "    fig.tight_layout()\n",
    "    #display(fig)"
   ]
  },
  {
   "cell_type": "code",
   "execution_count": null,
   "metadata": {},
   "outputs": [],
   "source": [
    "def plot_fft_result(data, labels, axis, remove_dc):\n",
    "    for n in range(len(data)):\n",
    "        d = data[n]\n",
    "        l = labels[n]\n",
    "        if remove_dc:\n",
    "            d = d - np.mean(d)\n",
    "        fft = np.fft.rfft(d)\n",
    "        axis.plot(abs(fft), label=l)\n",
    "        axis.set_title(\"Fourier Amplituden\")\n",
    "        axis.legend()\n",
    "        axis.grid()"
   ]
  },
  {
   "cell_type": "code",
   "execution_count": null,
   "metadata": {},
   "outputs": [],
   "source": [
    "def plot_fft_analysis(data, labels, remove_dc=False):\n",
    "    fig, ax_lst = plt.subplots(1, 1)\n",
    "    plot_fft_result(data, labels, ax_lst, remove_dc)"
   ]
  },
  {
   "cell_type": "code",
   "execution_count": null,
   "metadata": {},
   "outputs": [],
   "source": [
    "def plot_differentation(data, labels, n_diff, axis):\n",
    "    for n in range(len(data)):\n",
    "        d = data[n]\n",
    "        l = labels[n]\n",
    "        diff = np.diff(d, n_diff)\n",
    "        print(\"Diff Mean:\", np.mean(diff))\n",
    "        axis.plot(diff, label=l)\n",
    "        axis.set_title(\"Differentiation\")\n",
    "        axis.legend()\n",
    "        axis.grid()\n",
    "        "
   ]
  },
  {
   "cell_type": "code",
   "execution_count": null,
   "metadata": {},
   "outputs": [],
   "source": [
    "def plot_differentation_analysis(data, labels, n_diff):\n",
    "    fig, axis = plt.subplots(1,1)\n",
    "    plot_differentation(data, labels, n_diff, axis)"
   ]
  },
  {
   "cell_type": "code",
   "execution_count": null,
   "metadata": {
    "scrolled": true
   },
   "outputs": [],
   "source": [
    "plot_fft_analysis(data_pure[1:], labels[1:])"
   ]
  },
  {
   "cell_type": "code",
   "execution_count": null,
   "metadata": {},
   "outputs": [],
   "source": [
    "#plot_fft_analysis([5], remove_dc=True)"
   ]
  },
  {
   "cell_type": "code",
   "execution_count": null,
   "metadata": {
    "scrolled": false
   },
   "outputs": [],
   "source": [
    "# Haar Wavlet gibt die erste Ableitung\n",
    "plot_wavelet_analysis(data_pure[1:], labels[1:], 'db1')\n",
    "plot_differentation_analysis(data_pure[1:], labels[1:],  1)"
   ]
  },
  {
   "cell_type": "code",
   "execution_count": null,
   "metadata": {},
   "outputs": [],
   "source": [
    "plot_wavelet_analysis(data_pure[1:], labels[1:], 'db2')"
   ]
  },
  {
   "cell_type": "code",
   "execution_count": null,
   "metadata": {},
   "outputs": [],
   "source": [
    "plot_wavelet_analysis(data_pure[1:], labels[1:], 'db3')"
   ]
  },
  {
   "cell_type": "code",
   "execution_count": null,
   "metadata": {},
   "outputs": [],
   "source": [
    "plot_wavelet_analysis(data_pure[1:], labels[1:], 'db4')"
   ]
  },
  {
   "cell_type": "code",
   "execution_count": null,
   "metadata": {},
   "outputs": [],
   "source": [
    "plot_wavelet_analysis(data_pure[1:], labels[1:], 'db12')"
   ]
  },
  {
   "cell_type": "code",
   "execution_count": null,
   "metadata": {},
   "outputs": [],
   "source": [
    "plot_wavelet_analysis(data_pure[1:], labels[1:], 'db20')"
   ]
  },
  {
   "cell_type": "markdown",
   "metadata": {},
   "source": [
    "# Signal mit Sinus"
   ]
  },
  {
   "cell_type": "code",
   "execution_count": null,
   "metadata": {},
   "outputs": [],
   "source": [
    "plt.ioff()\n",
    "plt.clf()"
   ]
  },
  {
   "cell_type": "code",
   "execution_count": null,
   "metadata": {},
   "outputs": [],
   "source": [
    "indices = [1,2,3,4]\n",
    "ps = [-1,0,1,2,3]\n",
    "fig, lines = print_signals(data_with_sin[1:], labels_sin[1:]);\n",
    "canvas = fig.canvas\n",
    "\n",
    "def refresh_plot(a, f):\n",
    "    for n in range(len(indices)):\n",
    "        p = ps[indices[n]]\n",
    "        data_with_sin[indices[n]] = x**p + np.sin(f * np.pi * x) * a\n",
    "        lines[n].set_data(x, data_with_sin[indices[n]])\n",
    "    canvas.draw()\n",
    "    canvas.flush_events()\n",
    "    \n",
    "interactive_w = interactive(refresh_plot, a=(0.01, 0.2, 0.01), f=(1,20))\n",
    "\n",
    "HBox([interactive_w, canvas])"
   ]
  },
  {
   "cell_type": "code",
   "execution_count": null,
   "metadata": {},
   "outputs": [],
   "source": [
    "plt.ion()\n",
    "print_signals(data_with_sin[1:], labels_sin[1:])"
   ]
  },
  {
   "cell_type": "code",
   "execution_count": null,
   "metadata": {},
   "outputs": [],
   "source": [
    "plot_fft_analysis(data_with_sin[1:], labels_sin[1:])"
   ]
  },
  {
   "cell_type": "code",
   "execution_count": null,
   "metadata": {},
   "outputs": [],
   "source": [
    "plot_wavelet_analysis(data_with_sin[1:], labels_sin[1:], 'db2')"
   ]
  },
  {
   "cell_type": "markdown",
   "metadata": {},
   "source": [
    "# Shifted"
   ]
  },
  {
   "cell_type": "code",
   "execution_count": null,
   "metadata": {},
   "outputs": [],
   "source": [
    "print_signals(data_shifted[1:], labels_shifted[1:])"
   ]
  },
  {
   "cell_type": "code",
   "execution_count": null,
   "metadata": {},
   "outputs": [],
   "source": [
    "plot_wavelet_analysis(data_shifted[1:], labels[1:], 'db2')"
   ]
  },
  {
   "cell_type": "code",
   "execution_count": null,
   "metadata": {},
   "outputs": [],
   "source": [
    "plot_fft_analysis(data_pure[1:], labels[1:], remove_dc=True)\n",
    "plot_fft_analysis(data_shifted[1:], labels[1:], remove_dc=True)"
   ]
  },
  {
   "cell_type": "code",
   "execution_count": null,
   "metadata": {},
   "outputs": [],
   "source": []
  },
  {
   "cell_type": "markdown",
   "metadata": {},
   "source": [
    "# Differentation with noise"
   ]
  },
  {
   "cell_type": "code",
   "execution_count": null,
   "metadata": {},
   "outputs": [],
   "source": [
    "print_signals(data_with_noise[1:], labels)"
   ]
  },
  {
   "cell_type": "code",
   "execution_count": null,
   "metadata": {},
   "outputs": [],
   "source": [
    "plot_wavelet_analysis(data_with_noise[1:], labels[1:], 'db1')\n",
    "plot_differentation_analysis(data_with_noise[1:], labels[1:], 1)\n",
    "plot_fft_analysis(data_with_noise[1:], labels[1:], )"
   ]
  },
  {
   "cell_type": "code",
   "execution_count": null,
   "metadata": {},
   "outputs": [],
   "source": []
  },
  {
   "cell_type": "code",
   "execution_count": null,
   "metadata": {},
   "outputs": [],
   "source": [
    "plot_wavelet_analysis('db2', [1,2,3,4])\n",
    "plot_differentation_analysis([1, 2, 3, 4], 2)"
   ]
  },
  {
   "cell_type": "code",
   "execution_count": null,
   "metadata": {},
   "outputs": [],
   "source": [
    "plot_wavelet_analysis('db3', [3,4])\n",
    "plot_differentation_analysis([3, 4], 3)"
   ]
  },
  {
   "cell_type": "markdown",
   "metadata": {},
   "source": [
    "# Zero padding"
   ]
  },
  {
   "cell_type": "code",
   "execution_count": null,
   "metadata": {},
   "outputs": [],
   "source": [
    "data_zero_padded = []\n",
    "data_zero_padded_labels = []\n",
    "padding = 50\n",
    "x_padded = x[:len(x)-padding]\n",
    "\n",
    "y = np.concatenate((np.zeros(padding), x_padded))\n",
    "data_zero_padded.append(y)\n",
    "data_zero_padded_labels.append('$x$')\n",
    "\n",
    "y = np.concatenate((np.zeros(padding), np.sin(x_padded * 2 * np.pi)))\n",
    "data_zero_padded.append(y)\n",
    "data_zero_padded_labels.append('$sin(2 \\pi x)$')\n",
    "\n",
    "y = np.concatenate((np.zeros(padding), np.sin(x_padded * 10 * np.pi)))\n",
    "data_zero_padded.append(y)\n",
    "data_zero_padded_labels.append('$sin(10 \\pi x)$')\n",
    "\n",
    "y = np.concatenate((np.zeros(padding), np.sin(x_padded * 20 * np.pi)))\n",
    "data_zero_padded.append(y)\n",
    "data_zero_padded_labels.append('$sin(20 \\pi x)$')"
   ]
  },
  {
   "cell_type": "code",
   "execution_count": null,
   "metadata": {},
   "outputs": [],
   "source": [
    "print_signals(data_zero_padded, data_zero_padded_labels)"
   ]
  },
  {
   "cell_type": "code",
   "execution_count": null,
   "metadata": {},
   "outputs": [],
   "source": [
    "plot_fft_analysis(data_zero_padded, data_zero_padded_labels)\n",
    "plot_fft_analysis(data_pure[2:3], labels[2:3])\n",
    "plot_wavelet_analysis(data_zero_padded, data_zero_padded_labels, 'db1')"
   ]
  },
  {
   "cell_type": "markdown",
   "metadata": {},
   "source": [
    "# Sinus mit Noise"
   ]
  },
  {
   "cell_type": "code",
   "execution_count": null,
   "metadata": {},
   "outputs": [],
   "source": [
    "data_sin_with_noise = []\n",
    "data_sin_with_noise_labels = []\n",
    "noise = 1\n",
    "\n",
    "y = data_zero_padded[1] + (np.random.rand(len(x)) - 0.5) * noise\n",
    "data_sin_with_noise.append(y)\n",
    "data_sin_with_noise_labels.append('$sin(x 2 \\pi) + rand$')\n",
    "\n",
    "y = data_zero_padded[2] + (np.random.rand(len(x)) - 0.5) * noise\n",
    "data_sin_with_noise.append(y)\n",
    "data_sin_with_noise_labels.append('$sin(x 10 \\pi) + rand$')\n",
    "\n",
    "y = data_zero_padded[3] + (np.random.rand(len(x)) - 0.5) * noise\n",
    "data_sin_with_noise.append(y)\n",
    "data_sin_with_noise_labels.append('$sin(x 20 \\pi) + rand$')\n"
   ]
  },
  {
   "cell_type": "code",
   "execution_count": null,
   "metadata": {},
   "outputs": [],
   "source": [
    "print_signals(data_sin_with_noise, data_sin_with_noise_labels)"
   ]
  },
  {
   "cell_type": "code",
   "execution_count": null,
   "metadata": {},
   "outputs": [],
   "source": [
    "plot_fft_analysis(data_sin_with_noise, data_sin_with_noise_labels)"
   ]
  },
  {
   "cell_type": "code",
   "execution_count": null,
   "metadata": {},
   "outputs": [],
   "source": [
    "plot_wavelet_analysis(data_sin_with_noise[0:1], data_sin_with_noise_labels[0:1], 'db2')"
   ]
  },
  {
   "cell_type": "code",
   "execution_count": null,
   "metadata": {},
   "outputs": [],
   "source": [
    "plot_wavelet_analysis(data_sin_with_noise[1:2], data_sin_with_noise_labels[1:2], 'db2')"
   ]
  },
  {
   "cell_type": "code",
   "execution_count": null,
   "metadata": {},
   "outputs": [],
   "source": [
    "plot_wavelet_analysis(data_sin_with_noise[2:3], data_sin_with_noise_labels[2:3], 'db2')"
   ]
  },
  {
   "cell_type": "code",
   "execution_count": null,
   "metadata": {},
   "outputs": [],
   "source": []
  }
 ],
 "metadata": {
  "kernelspec": {
   "display_name": "Python 3",
   "language": "python",
   "name": "python3"
  },
  "language_info": {
   "codemirror_mode": {
    "name": "ipython",
    "version": 3
   },
   "file_extension": ".py",
   "mimetype": "text/x-python",
   "name": "python",
   "nbconvert_exporter": "python",
   "pygments_lexer": "ipython3",
   "version": "3.7.3"
  }
 },
 "nbformat": 4,
 "nbformat_minor": 2
}
