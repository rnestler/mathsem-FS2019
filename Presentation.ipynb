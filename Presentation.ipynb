{
 "cells": [
  {
   "cell_type": "code",
   "execution_count": null,
   "metadata": {
    "slideshow": {
     "slide_type": "skip"
    }
   },
   "outputs": [],
   "source": [
    "%matplotlib inline\n",
    "import math\n",
    "import pywt\n",
    "import pandas as pd\n",
    "import numpy as np\n",
    "from matplotlib import pyplot as plt\n",
    "from ipywidgets import HBox, FloatSlider, IntSlider\n",
    "from ipywidgets import interact, interactive, fixed, interact_manual\n",
    "from IPython.display import display"
   ]
  },
  {
   "cell_type": "code",
   "execution_count": null,
   "metadata": {
    "slideshow": {
     "slide_type": "skip"
    }
   },
   "outputs": [],
   "source": [
    "plt.rcParams[\"figure.figsize\"] = [16,9]\n",
    "plt.rcParams.update({'font.size': 20})"
   ]
  },
  {
   "cell_type": "code",
   "execution_count": null,
   "metadata": {
    "slideshow": {
     "slide_type": "skip"
    }
   },
   "outputs": [],
   "source": [
    "data = []\n",
    "data_pure = []\n",
    "data_with_noise = []\n",
    "data_shifted = []\n",
    "data_with_sin = []\n",
    "labels = ['$x^{-1}$', '$x^0$', '$x^1$', '$x^2$', '$x^3$']\n",
    "labels_shifted = ['$(x-t)^{-1}$', '$(x-t)^0$', '$(x-t)^1$', '$(x-t)^2$', '$(x-t)^3$']\n",
    "labels_sin = [x + ' + sin(f \\pi x) \\cdot a$' for x in ['$x^{-1}', '$x^0', '$x^1', '$x^2', '$x^3']]\n",
    "x = np.linspace(0, 2, 100)\n",
    "for p in [0.5, 0, 1, 2, 3]:\n",
    "    y = x**p\n",
    "    y_noise = x**p + np.random.rand(len(x))*0.1\n",
    "    y_shifted = (x + 0.5)**p\n",
    "    y_sin = x**p + np.sin(20 * np.pi * x) * 0.1\n",
    "    data_pure.append(y)\n",
    "    data_with_noise.append(y_noise)\n",
    "    data_shifted.append(y_shifted)\n",
    "    data_with_sin.append(y_sin)\n",
    "\n",
    "data = data_pure"
   ]
  },
  {
   "cell_type": "code",
   "execution_count": null,
   "metadata": {
    "slideshow": {
     "slide_type": "skip"
    }
   },
   "outputs": [],
   "source": [
    "def print_signals(data, labels):\n",
    "    lines = []\n",
    "    fig, ax = plt.subplots(1,1)\n",
    "    ax.set_title(\"Signals\")\n",
    "    for i in range(len(data)):\n",
    "        d = data[i]\n",
    "        l = labels[i]\n",
    "        line = plt.plot(x, d, label=l)\n",
    "        lines += line\n",
    "    plt.legend()\n",
    "    plt.grid()\n",
    "    return fig, lines"
   ]
  },
  {
   "cell_type": "code",
   "execution_count": null,
   "metadata": {
    "slideshow": {
     "slide_type": "skip"
    }
   },
   "outputs": [],
   "source": [
    "MODE='smooth'\n",
    "def plot_dwt_result(data, labels, wavelet, ca_axis, cd_axis):\n",
    "    for n in range(len(data)):\n",
    "        d = data[n]\n",
    "        l = labels[n]\n",
    "        ca, cd = pywt.dwt(d, wavelet, mode=MODE)\n",
    "        #print(len(d), len(ca), len(cd))\n",
    "        l_diff = len(ca) - len(d)//2\n",
    "        start = l_diff\n",
    "        end = len(ca) - l_diff\n",
    "        ca = ca[start:end]\n",
    "        cd = cd[start:end]\n",
    "        #ca = ca[0:len(d)//2]\n",
    "        #cd = cd[0:len(d)//2]\n",
    "        #print(len(d), len(ca), len(cd))\n",
    "        ca_axis.set_title(\"Approx. Coef\")\n",
    "        ca_axis.plot(ca, label=l)\n",
    "        cd_axis.set_title(\"Detail Coef\")\n",
    "        cd_axis.plot(cd, label=l)\n",
    "        ca_axis.legend()\n",
    "        cd_axis.legend()\n",
    "        \n",
    "def plot_wavelet_analysis(data, labels, wavelet):\n",
    "    fig, ax_lst = plt.subplots(2, 1)\n",
    "    plot_dwt_result(data, labels, wavelet, ax_lst[0], ax_lst[1])\n",
    "    fig.tight_layout()"
   ]
  },
  {
   "cell_type": "code",
   "execution_count": null,
   "metadata": {
    "slideshow": {
     "slide_type": "skip"
    }
   },
   "outputs": [],
   "source": [
    "def plot_fft_result(data, labels, axis, remove_dc):\n",
    "    for n in range(len(data)):\n",
    "        d = data[n]\n",
    "        l = labels[n]\n",
    "        if remove_dc:\n",
    "            d = d - np.mean(d)\n",
    "        fft = np.fft.rfft(d)\n",
    "        axis.plot(abs(fft), label=l)\n",
    "        axis.set_title(\"Fourier Amplituden\")\n",
    "        axis.legend()\n",
    "        axis.grid()\n",
    "\n",
    "def plot_fft_analysis(data, labels, remove_dc=False):\n",
    "    fig, ax_lst = plt.subplots(1, 1)\n",
    "    plot_fft_result(data, labels, ax_lst, remove_dc)"
   ]
  },
  {
   "cell_type": "code",
   "execution_count": null,
   "metadata": {
    "slideshow": {
     "slide_type": "skip"
    }
   },
   "outputs": [],
   "source": [
    "def plot_differentation(data, labels, n_diff, axis):\n",
    "    for n in range(len(data)):\n",
    "        d = data[n]\n",
    "        l = labels[n]\n",
    "        diff = np.diff(d, n_diff)\n",
    "        #print(\"Diff Mean:\", np.mean(diff))\n",
    "        axis.plot(diff, label=l)\n",
    "        axis.set_title(\"Differentiation\")\n",
    "        axis.legend()\n",
    "        axis.grid()"
   ]
  },
  {
   "cell_type": "code",
   "execution_count": null,
   "metadata": {
    "slideshow": {
     "slide_type": "skip"
    }
   },
   "outputs": [],
   "source": [
    "def plot_differentation_analysis(data, labels, n_diff):\n",
    "    fig, axis = plt.subplots(1,1)\n",
    "    plot_differentation(data, labels, n_diff, axis)"
   ]
  },
  {
   "cell_type": "markdown",
   "metadata": {
    "slideshow": {
     "slide_type": "slide"
    }
   },
   "source": [
    "# Merkmale der Wavelet Analyse\n",
    "## Welche Information werden durch Wavelets zerstört?"
   ]
  },
  {
   "cell_type": "code",
   "execution_count": null,
   "metadata": {
    "slideshow": {
     "slide_type": "skip"
    }
   },
   "outputs": [],
   "source": []
  },
  {
   "cell_type": "markdown",
   "metadata": {
    "slideshow": {
     "slide_type": "slide"
    }
   },
   "source": [
    "# Fokus\n",
    "\n",
    " * Wavelet Analyse von 1D Signalen\n",
    "     * Polynome\n",
    "     * Mit Rauschen\n",
    "     * Mit periodischen Elementen\n",
    "     * Ausschliesslich Haar / DB Wavelets\n",
    " * Vergleich FFT\n",
    " * Anwendung zur Rauschunempfindlichen Ableitung?"
   ]
  },
  {
   "cell_type": "markdown",
   "metadata": {
    "slideshow": {
     "slide_type": "slide"
    }
   },
   "source": [
    "# Anekdoten\n",
    "\n"
   ]
  },
  {
   "cell_type": "markdown",
   "metadata": {
    "slideshow": {
     "slide_type": "notes"
    }
   },
   "source": [
    "In Dokumentation zu Implementierung wird oft nur von Detail und Approximation Koeffizienten gesprochen. Die Approximation sind der Tiefpass Output und die Detail dem Hochpass Output."
   ]
  },
  {
   "cell_type": "markdown",
   "metadata": {
    "slideshow": {
     "slide_type": "subslide"
    }
   },
   "source": [
    "## Begriffe in der Praxis\n",
    "\n",
    " * 1 Stufige Wavelet Analyse\n",
    "   * Detail und Approximation Koeffizienten"
   ]
  },
  {
   "cell_type": "markdown",
   "metadata": {
    "slideshow": {
     "slide_type": "subslide"
    }
   },
   "source": [
    "## Filter Einschwingverhalten\n",
    " * Filter brauchen Zeit zum Einschwingen\n",
    " * Was füttere ich rein?\n",
    "   * 0er?\n",
    "   * Konstanten?\n",
    "   * Periodisierung?\n"
   ]
  },
  {
   "cell_type": "markdown",
   "metadata": {
    "slideshow": {
     "slide_type": "subslide"
    }
   },
   "source": [
    "![](https://pywavelets.readthedocs.io/en/latest/_images/plot_boundary_modes.png)"
   ]
  },
  {
   "cell_type": "markdown",
   "metadata": {
    "slideshow": {
     "slide_type": "slide"
    }
   },
   "source": [
    "# Analyse von Polynomen"
   ]
  },
  {
   "cell_type": "code",
   "execution_count": null,
   "metadata": {
    "slideshow": {
     "slide_type": "subslide"
    }
   },
   "outputs": [],
   "source": [
    "fig, data = print_signals(data_pure, labels);"
   ]
  },
  {
   "cell_type": "markdown",
   "metadata": {
    "slideshow": {
     "slide_type": "subslide"
    }
   },
   "source": [
    "# Analyse mit Haar"
   ]
  },
  {
   "cell_type": "code",
   "execution_count": null,
   "metadata": {
    "slideshow": {
     "slide_type": "fragment"
    }
   },
   "outputs": [],
   "source": [
    "plot_wavelet_analysis(data_pure[1:], labels[1:], 'db1')"
   ]
  },
  {
   "cell_type": "markdown",
   "metadata": {
    "slideshow": {
     "slide_type": "subslide"
    }
   },
   "source": [
    "# Ableitung"
   ]
  },
  {
   "cell_type": "code",
   "execution_count": null,
   "metadata": {
    "slideshow": {
     "slide_type": "fragment"
    }
   },
   "outputs": [],
   "source": [
    "plot_differentation_analysis(data_pure[1:], labels[1:],  1)"
   ]
  },
  {
   "cell_type": "code",
   "execution_count": null,
   "metadata": {},
   "outputs": [],
   "source": [
    "plot_wavelet_analysis(data_pure[1:], labels[1:], 'db2')"
   ]
  },
  {
   "cell_type": "code",
   "execution_count": null,
   "metadata": {},
   "outputs": [],
   "source": [
    "plot_wavelet_analysis(data_pure[1:], labels[1:], 'db3')"
   ]
  },
  {
   "cell_type": "markdown",
   "metadata": {
    "slideshow": {
     "slide_type": "slide"
    }
   },
   "source": [
    "# Differenzieren von verrauschten Signalen\n",
    "\n",
    " * Rauschen \"explodiert\" bei mehrfachem nummerischen Differenzieren\n",
    " * Könnten Wavlets das umgehen?"
   ]
  },
  {
   "cell_type": "code",
   "execution_count": null,
   "metadata": {
    "slideshow": {
     "slide_type": "subslide"
    }
   },
   "outputs": [],
   "source": [
    "print_signals(data_with_noise[1:], labels);"
   ]
  },
  {
   "cell_type": "code",
   "execution_count": null,
   "metadata": {},
   "outputs": [],
   "source": [
    "plot_wavelet_analysis(data_with_noise[1:], labels[1:], 'db1')"
   ]
  },
  {
   "cell_type": "code",
   "execution_count": null,
   "metadata": {
    "slideshow": {
     "slide_type": "subslide"
    }
   },
   "outputs": [],
   "source": [
    "plot_differentation_analysis(data_with_noise[1:], labels[1:], 1)"
   ]
  },
  {
   "cell_type": "markdown",
   "metadata": {
    "slideshow": {
     "slide_type": "slide"
    }
   },
   "source": [
    "# Polynome mit Sinus"
   ]
  },
  {
   "cell_type": "markdown",
   "metadata": {
    "slideshow": {
     "slide_type": "slide"
    }
   },
   "source": [
    "# Polynome mit Rauschen"
   ]
  },
  {
   "cell_type": "markdown",
   "metadata": {
    "slideshow": {
     "slide_type": "slide"
    }
   },
   "source": [
    "# Information von Wavlets\n",
    "\n",
    " * Lokal: Hohe Frequenzen / Ableitung\n",
    " * Global: \"DC\""
   ]
  },
  {
   "cell_type": "code",
   "execution_count": null,
   "metadata": {},
   "outputs": [],
   "source": []
  }
 ],
 "metadata": {
  "celltoolbar": "Slideshow",
  "kernelspec": {
   "display_name": "Python 3",
   "language": "python",
   "name": "python3"
  },
  "language_info": {
   "codemirror_mode": {
    "name": "ipython",
    "version": 3
   },
   "file_extension": ".py",
   "mimetype": "text/x-python",
   "name": "python",
   "nbconvert_exporter": "python",
   "pygments_lexer": "ipython3",
   "version": "3.7.3"
  }
 },
 "nbformat": 4,
 "nbformat_minor": 2
}
