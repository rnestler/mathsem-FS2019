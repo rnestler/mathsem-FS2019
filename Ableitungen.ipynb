{
 "cells": [
  {
   "cell_type": "code",
   "execution_count": 1,
   "metadata": {},
   "outputs": [
    {
     "data": {
      "text/plain": [
       "<module 'toolbox' from '/home/roughl/projects/mathsem/polynoms/toolbox.py'>"
      ]
     },
     "execution_count": 1,
     "metadata": {},
     "output_type": "execute_result"
    }
   ],
   "source": [
    "%matplotlib widget\n",
    "import math\n",
    "import pywt\n",
    "import pandas as pd\n",
    "import numpy as np\n",
    "from matplotlib import pyplot as plt\n",
    "from ipywidgets import HBox, VBox, FloatSlider, IntSlider\n",
    "from ipywidgets import interact, interactive, fixed, interact_manual\n",
    "from IPython.display import display\n",
    "import importlib\n",
    "import toolbox\n",
    "importlib.reload(toolbox)"
   ]
  },
  {
   "cell_type": "code",
   "execution_count": 2,
   "metadata": {},
   "outputs": [],
   "source": [
    "plt.rcParams[\"figure.figsize\"] = [8,6]\n",
    "plt.rcParams.update({'font.size': 14})"
   ]
  },
  {
   "cell_type": "code",
   "execution_count": 3,
   "metadata": {},
   "outputs": [],
   "source": [
    "from toolbox import *"
   ]
  },
  {
   "cell_type": "markdown",
   "metadata": {},
   "source": [
    "# Wavelets und Ableitung"
   ]
  },
  {
   "cell_type": "code",
   "execution_count": 5,
   "metadata": {
    "scrolled": false
   },
   "outputs": [
    {
     "data": {
      "application/vnd.jupyter.widget-view+json": {
       "model_id": "cf2cb92e069b4ffc9235d9793e7bbf0b",
       "version_major": 2,
       "version_minor": 0
      },
      "text/plain": [
       "VBox(children=(interactive(children=(FloatSlider(value=0.1, description='noise', max=0.2, step=0.01), IntSlide…"
      ]
     },
     "metadata": {},
     "output_type": "display_data"
    }
   ],
   "source": [
    "plt.ioff()\n",
    "\n",
    "fig_signal = plt.figure(1, figsize=[8, 2])\n",
    "fig_dwt = plt.figure(2, figsize=[8, 8])\n",
    "fig_diff = plt.figure(3, figsize=[8, 2])\n",
    "\n",
    "fig_dwt.tight_layout()\n",
    "canvas = fig_dwt.canvas\n",
    "wavelets = ['db1', 'db2', 'db3']\n",
    "\n",
    "def refresh_plot(noise, p, derivative):\n",
    "    y = x**p + (np.random.rand(len(x)) + 0.5) * noise\n",
    "    fig_dwt.clear()\n",
    "    fig_signal.clear()\n",
    "    fig_diff.clear()\n",
    "    signal_plot = fig_signal.subplots(1)\n",
    "    signal_plot.plot(y)\n",
    "    plot_dwt_multi_level([y], ['$x^{}'.format(p)], wavelets[derivative-1], fig_dwt, level=4)\n",
    "    \n",
    "    diff_plot = fig_diff.subplots(1)\n",
    "    y_diff = np.diff(y, derivative)\n",
    "    if np.max(np.abs(y_diff)) < 0.001:\n",
    "        diff_plot.set_ylim(-0.001, 0.001)\n",
    "    diff_plot.plot(y_diff)\n",
    "\n",
    "    fig_signal.canvas.draw()\n",
    "    fig_dwt.canvas.draw()\n",
    "    fig_diff.canvas.draw()\n",
    "    #canvas.flush_events()\n",
    "    \n",
    "interactive_w = interactive(refresh_plot, noise=(0.0, 0.2, 0.01), p=(1,4), derivative=(1,3))\n",
    "\n",
    "VBox([interactive_w, fig_signal.canvas, fig_dwt.canvas, fig_diff.canvas])"
   ]
  },
  {
   "cell_type": "code",
   "execution_count": null,
   "metadata": {},
   "outputs": [],
   "source": []
  },
  {
   "cell_type": "code",
   "execution_count": null,
   "metadata": {},
   "outputs": [],
   "source": []
  }
 ],
 "metadata": {
  "kernelspec": {
   "display_name": "Python 3",
   "language": "python",
   "name": "python3"
  },
  "language_info": {
   "codemirror_mode": {
    "name": "ipython",
    "version": 3
   },
   "file_extension": ".py",
   "mimetype": "text/x-python",
   "name": "python",
   "nbconvert_exporter": "python",
   "pygments_lexer": "ipython3",
   "version": "3.7.3"
  }
 },
 "nbformat": 4,
 "nbformat_minor": 2
}
