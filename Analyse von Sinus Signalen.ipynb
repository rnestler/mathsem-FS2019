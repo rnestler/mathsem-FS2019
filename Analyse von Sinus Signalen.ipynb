{
 "cells": [
  {
   "cell_type": "code",
   "execution_count": null,
   "metadata": {},
   "outputs": [],
   "source": [
    "%matplotlib widget\n",
    "import math\n",
    "import pywt\n",
    "import pandas as pd\n",
    "import numpy as np\n",
    "from matplotlib import pyplot as plt\n",
    "from ipywidgets import HBox, VBox, FloatSlider, IntSlider\n",
    "from ipywidgets import interact, interactive, fixed, interact_manual\n",
    "from IPython.display import display\n",
    "import importlib\n",
    "import toolbox\n",
    "importlib.reload(toolbox)"
   ]
  },
  {
   "cell_type": "code",
   "execution_count": null,
   "metadata": {},
   "outputs": [],
   "source": [
    "from toolbox import *"
   ]
  },
  {
   "cell_type": "code",
   "execution_count": null,
   "metadata": {},
   "outputs": [],
   "source": [
    "plt.rcParams[\"figure.figsize\"] = [8,6]\n",
    "plt.rcParams.update({'font.size': 14})"
   ]
  },
  {
   "cell_type": "markdown",
   "metadata": {},
   "source": [
    "# Analyse von Sinus Signalen"
   ]
  },
  {
   "cell_type": "code",
   "execution_count": null,
   "metadata": {},
   "outputs": [],
   "source": [
    "plt.ioff()"
   ]
  },
  {
   "cell_type": "code",
   "execution_count": null,
   "metadata": {
    "scrolled": false
   },
   "outputs": [],
   "source": [
    "indices = [1,2,3,4]\n",
    "ps = [-1,0,1,2,3]\n",
    "signal_fig, lines = print_signals(data_with_sin[1:], labels_sin[1:]);\n",
    "fft_fig = plt.figure(2)\n",
    "dwt_fig = plt.figure(3)\n",
    "\n",
    "\n",
    "def refresh_plot(a, f):\n",
    "    for n in range(len(indices)):\n",
    "        p = ps[indices[n]]\n",
    "        data_with_sin[indices[n]] = x**p + np.sin(f * np.pi * x) * a\n",
    "        lines[n].set_data(x, data_with_sin[indices[n]])\n",
    "        \n",
    "    fft_fig.clear()\n",
    "    dwt_fig.clear()\n",
    "    fft_axis = fft_fig.subplots(1)\n",
    "    plot_fft_result(data_with_sin[1:], labels_sin[1:], fft_axis, remove_dc=False)\n",
    "    \n",
    "    dwt_axis = dwt_fig.subplots(2)\n",
    "    plot_dwt_result(data_with_sin[1:], labels_sin[1:], 'db2', dwt_axis[0], dwt_axis[1])\n",
    "        \n",
    "    signal_fig.canvas.draw()\n",
    "    fft_fig.canvas.draw()\n",
    "    dwt_fig.canvas.draw()\n",
    "    signal_fig.canvas.flush_events()\n",
    "    \n",
    "interactive_w = interactive(refresh_plot, a=(0.01, 0.2, 0.01), f=(1,20))\n",
    "\n",
    "VBox([VBox([interactive_w, signal_fig.canvas]),\n",
    "      VBox([interactive_w, fft_fig.canvas]),\n",
    "      VBox([interactive_w, dwt_fig.canvas])])"
   ]
  },
  {
   "cell_type": "code",
   "execution_count": null,
   "metadata": {},
   "outputs": [],
   "source": []
  }
 ],
 "metadata": {
  "kernelspec": {
   "display_name": "Python 3",
   "language": "python",
   "name": "python3"
  },
  "language_info": {
   "codemirror_mode": {
    "name": "ipython",
    "version": 3
   },
   "file_extension": ".py",
   "mimetype": "text/x-python",
   "name": "python",
   "nbconvert_exporter": "python",
   "pygments_lexer": "ipython3",
   "version": "3.7.3"
  }
 },
 "nbformat": 4,
 "nbformat_minor": 2
}
